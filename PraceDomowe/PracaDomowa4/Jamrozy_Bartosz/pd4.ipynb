{
 "cells": [
  {
   "cell_type": "markdown",
   "id": "dated-pepper",
   "metadata": {},
   "source": [
    "## Pd3 Jamroży Bartosz"
   ]
  },
  {
   "cell_type": "code",
   "execution_count": 17,
   "id": "boring-vinyl",
   "metadata": {},
   "outputs": [
    {
     "name": "stderr",
     "output_type": "stream",
     "text": [
      "Loading required package: ParamHelpers\n",
      "Warning message: 'mlr' is in 'maintenance-only' mode since July 2019.\n",
      "Future development will only happen in 'mlr3'\n",
      "(<https://mlr3.mlr-org.com>). Due to the focus on 'mlr3' there might be\n",
      "uncaught bugs meanwhile in {mlr} - please consider switching.\n"
     ]
    }
   ],
   "source": [
    "library(tidyverse)\n",
    "library(reshape2)\n",
    "\n",
    "\n",
    "library(DALEX)\n",
    "library(DALEXtra)\n",
    "library(randomForest)\n",
    "library(xgboost)\n",
    "library(mlr)\n",
    "\n",
    "\n",
    "options(warn=-1)"
   ]
  },
  {
   "cell_type": "markdown",
   "id": "typical-seattle",
   "metadata": {},
   "source": [
    "Dane z: https://www.kaggle.com/camnugent/california-housing-prices"
   ]
  },
  {
   "cell_type": "code",
   "execution_count": 4,
   "id": "premium-empty",
   "metadata": {},
   "outputs": [],
   "source": [
    "housing <- read.csv(\"housing.csv\")"
   ]
  },
  {
   "cell_type": "markdown",
   "id": "resistant-motor",
   "metadata": {},
   "source": [
    "## Model\n",
    "przykładowy model z : https://www.kaggle.com/camnugent/introduction-to-machine-learning-in-r-tutorial"
   ]
  },
  {
   "cell_type": "code",
   "execution_count": 5,
   "id": "posted-puppy",
   "metadata": {},
   "outputs": [
    {
     "name": "stderr",
     "output_type": "stream",
     "text": [
      "Your code contains a unicode char which cannot be displayed in your\n",
      "current locale and R will silently convert it to an escaped form when the\n",
      "R kernel executes this code. This can lead to subtle errors if you use\n",
      "such chars to do comparisons. For more information, please see\n",
      "https://github.com/IRkernel/repr/wiki/Problems-with-unicode-on-windows"
     ]
    }
   ],
   "source": [
    "housing$total_bedrooms[is.na(housing$total_bedrooms)] =median(housing$total_bedrooms , na.rm = TRUE)\n",
    "housing$mean_bedrooms = housing$total_bedrooms/housing$households\n",
    "housing$mean_rooms = housing$total_rooms/housing$households\n",
    "drops = c('total_bedrooms', 'total_rooms')\n",
    "housing = housing[ , !(names(housing) %in% drops)]\n",
    "\n",
    "\n",
    "set.seed(1738) # Set a random seed so that same sample can be reproduced in␣future runs\n",
    "sample = sample.int(n = nrow(housing), size = floor(.8*nrow(housing)), replace= F)\n",
    "train = housing[sample, ] #just the samples\n",
    "test = housing[-sample, ] #everything but the samples\n",
    "\n",
    "train_y = train[,'median_house_value']\n",
    "train_x = train[, names(train) !='median_house_value']\n",
    "\n",
    "\n",
    "rf_model = randomForest(train_x, y = train_y , ntree = 500, importance = TRUE)\n"
   ]
  },
  {
   "cell_type": "code",
   "execution_count": 11,
   "id": "armed-ministry",
   "metadata": {},
   "outputs": [],
   "source": [
    "library(tidyverse)\n",
    "library(reshape2)\n",
    "\n",
    "housing = read.csv(\"housing.csv\")\n",
    "\n",
    "# clean data\n",
    "housing$total_bedrooms[is.na(housing$total_bedrooms)] = median(housing$total_bedrooms , na.rm = TRUE)\n",
    "\n",
    "#Fix the total columns - make them means\n",
    "housing$mean_bedrooms = housing$total_bedrooms/housing$households\n",
    "housing$mean_rooms = housing$total_rooms/housing$households\n",
    "\n",
    "drops = c('total_bedrooms', 'total_rooms')\n",
    "housing = housing[ , !(names(housing) %in% drops)]\n",
    "\n",
    "#Turn categoricals into booleans\n",
    "categories = unique(housing$ocean_proximity)\n",
    "\n",
    "#split the categories off\n",
    "cat_housing = data.frame(ocean_proximity = housing$ocean_proximity)\n",
    "\n",
    "for(cat in categories){\n",
    "  cat_housing[,cat] = rep(0, times= nrow(cat_housing))\n",
    "}\n",
    "\n",
    "\n",
    "for(i in 1:length(cat_housing$ocean_proximity)){\n",
    "  cat = as.character(cat_housing$ocean_proximity[i])\n",
    "  cat_housing[,cat][i] = 1\n",
    "}\n",
    "\n",
    "cat_columns = names(cat_housing)\n",
    "keep_columns = cat_columns[cat_columns != 'ocean_proximity']\n",
    "cat_housing = select(cat_housing,one_of(keep_columns))\n",
    "\n",
    "#Scale the numerical variables\n",
    "\n",
    "drops = c('ocean_proximity','median_house_value')\n",
    "housing_num =  housing[ , !(names(housing) %in% drops)]\n",
    "\n",
    "scaled_housing_num = scale(housing_num)\n",
    "\n",
    "#Merge the altered numerical and categorical dataframes\n",
    "cleaned_housing = cbind(cat_housing, scaled_housing_num, median_house_value=housing$median_house_value)\n",
    "\n",
    "\n",
    "# Create a test set of data\n",
    "\n",
    "set.seed(1738) # Set a random seed so that same sample can be reproduced in future runs\n",
    "\n",
    "sample = sample.int(n = nrow(cleaned_housing), size = floor(.8*nrow(cleaned_housing)), replace = F)\n",
    "train = cleaned_housing[sample, ] #just the samples\n",
    "test  = cleaned_housing[-sample, ] #everything but the samples\n",
    "\n",
    "#Random forest model\n",
    "library('randomForest')\n",
    "\n",
    "set.seed(1738)\n",
    "\n",
    "train_y = train[,'median_house_value']\n",
    "train_x = train[, names(train) !='median_house_value']\n",
    "\n",
    "rf_model = randomForest(train_x, y = train_y , ntree = 500, importance = TRUE)"
   ]
  },
  {
   "cell_type": "markdown",
   "id": "funky-network",
   "metadata": {},
   "source": [
    "### Tworzenie explainera"
   ]
  },
  {
   "cell_type": "code",
   "execution_count": 12,
   "id": "rocky-rescue",
   "metadata": {},
   "outputs": [
    {
     "name": "stdout",
     "output_type": "stream",
     "text": [
      "Preparation of a new explainer is initiated\n",
      "  -> model label       :  randomForest  ( \u001b[33m default \u001b[39m )\n",
      "  -> data              :  16512  rows  13  cols \n",
      "  -> target variable   :  16512  values \n",
      "  -> predict function  :  yhat.randomForest  will be used ( \u001b[33m default \u001b[39m )\n",
      "  -> predicted values  :  No value for predict function target column. ( \u001b[33m default \u001b[39m )\n",
      "  -> model_info        :  package randomForest , ver. 4.6.14 , task regression ( \u001b[33m default \u001b[39m ) \n",
      "  -> predicted values  :  numerical, min =  39702.65 , mean =  206688.3 , max =  499518.2  \n",
      "  -> residual function :  difference between y and yhat ( \u001b[33m default \u001b[39m )\n",
      "  -> residuals         :  numerical, min =  -126586.5 , mean =  -173.9163 , max =  195986.5  \n",
      " \u001b[32m A new explainer has been created! \u001b[39m \n"
     ]
    }
   ],
   "source": [
    "# explainer <- DALEX::explain(model = rf_model,\n",
    "#                             data = housing[, -7],\n",
    "#                             y = housing[, 7])\n",
    "rf_model_expain <- DALEX::explain(model = rf_model, data=train_x, y=train_y)"
   ]
  },
  {
   "cell_type": "code",
   "execution_count": null,
   "id": "breathing-denmark",
   "metadata": {},
   "outputs": [],
   "source": []
  },
  {
   "cell_type": "code",
   "execution_count": 13,
   "id": "surrounded-defensive",
   "metadata": {},
   "outputs": [],
   "source": [
    "# fi_1 <- model_parts(explainer, B = 10)\n",
    "fi_1 <- model_parts(rf_model_expain, B = 10)"
   ]
  },
  {
   "cell_type": "code",
   "execution_count": 14,
   "id": "velvet-quarterly",
   "metadata": {},
   "outputs": [
    {
     "data": {
      "image/png": "[encoded data removed]",
      "text/plain": [
       "plot without title"
      ]
     },
     "metadata": {},
     "output_type": "display_data"
    }
   ],
   "source": [
    "plot(fi_1)"
   ]
  },
  {
   "cell_type": "code",
   "execution_count": 34,
   "id": "contemporary-dynamics",
   "metadata": {},
   "outputs": [
    {
     "name": "stdout",
     "output_type": "stream",
     "text": [
      "[1]\ttrain-rmse:172392.031250 \n",
      "[2]\ttrain-rmse:128907.367188 \n",
      "[3]\ttrain-rmse:100362.273438 \n",
      "[4]\ttrain-rmse:81895.804688 \n",
      "[5]\ttrain-rmse:70312.023438 \n",
      "[6]\ttrain-rmse:63434.140625 \n",
      "[7]\ttrain-rmse:59098.710938 \n",
      "[8]\ttrain-rmse:55772.839844 \n",
      "[9]\ttrain-rmse:53998.953125 \n",
      "[10]\ttrain-rmse:52433.031250 \n",
      "[11]\ttrain-rmse:51059.761719 \n",
      "[12]\ttrain-rmse:49817.902344 \n",
      "[13]\ttrain-rmse:48931.281250 \n",
      "[14]\ttrain-rmse:47667.933594 \n",
      "[15]\ttrain-rmse:46871.847656 \n",
      "[16]\ttrain-rmse:46173.339844 \n",
      "[17]\ttrain-rmse:45658.121094 \n",
      "[18]\ttrain-rmse:45126.437500 \n",
      "[19]\ttrain-rmse:44662.339844 \n",
      "[20]\ttrain-rmse:44306.175781 \n",
      "[21]\ttrain-rmse:43601.914062 \n",
      "[22]\ttrain-rmse:43197.570312 \n",
      "[23]\ttrain-rmse:42828.015625 \n",
      "[24]\ttrain-rmse:42466.546875 \n",
      "[25]\ttrain-rmse:42043.429688 \n",
      "[26]\ttrain-rmse:41560.718750 \n",
      "[27]\ttrain-rmse:41401.851562 \n",
      "[28]\ttrain-rmse:40774.703125 \n",
      "[29]\ttrain-rmse:40400.667969 \n",
      "[30]\ttrain-rmse:40053.917969 \n",
      "[31]\ttrain-rmse:39827.046875 \n",
      "[32]\ttrain-rmse:39503.601562 \n",
      "[33]\ttrain-rmse:39409.128906 \n",
      "[34]\ttrain-rmse:39168.269531 \n",
      "[35]\ttrain-rmse:38857.699219 \n",
      "[36]\ttrain-rmse:38582.593750 \n",
      "[37]\ttrain-rmse:38242.312500 \n",
      "[38]\ttrain-rmse:37944.058594 \n",
      "[39]\ttrain-rmse:37545.425781 \n",
      "[40]\ttrain-rmse:37343.175781 \n",
      "[41]\ttrain-rmse:37066.699219 \n",
      "[42]\ttrain-rmse:36941.640625 \n",
      "[43]\ttrain-rmse:36743.152344 \n",
      "[44]\ttrain-rmse:36450.070312 \n",
      "[45]\ttrain-rmse:36151.304688 \n",
      "[46]\ttrain-rmse:35947.480469 \n",
      "[47]\ttrain-rmse:35885.730469 \n",
      "[48]\ttrain-rmse:35770.226562 \n",
      "[49]\ttrain-rmse:35643.578125 \n",
      "[50]\ttrain-rmse:35425.683594 \n"
     ]
    }
   ],
   "source": [
    "model_xg <- xgboost(data = as.matrix(train_x), label = train_y,nrounds=50,objective = 'reg:squarederror')"
   ]
  },
  {
   "cell_type": "code",
   "execution_count": 36,
   "id": "convertible-break",
   "metadata": {},
   "outputs": [
    {
     "name": "stdout",
     "output_type": "stream",
     "text": [
      "Preparation of a new explainer is initiated\n",
      "  -> model label       :  xgb.Booster  ( \u001b[33m default \u001b[39m )\n",
      "  -> data              :  16512  rows  13  cols \n",
      "  -> target variable   :  16512  values \n",
      "  -> predict function  :  yhat.xgb.Booster  will be used ( \u001b[33m default \u001b[39m )\n",
      "  -> predicted values  :  No value for predict function target column. ( \u001b[33m default \u001b[39m )\n",
      "  -> model_info        :  package xgboost , ver. 1.4.1.1 , task regression ( \u001b[33m default \u001b[39m ) \n",
      "  -> predicted values  :  numerical, min =  31917.83 , mean =  206495.6 , max =  567514.1  \n",
      "  -> residual function :  difference between y and yhat ( \u001b[33m default \u001b[39m )\n",
      "  -> residuals         :  numerical, min =  -200900.9 , mean =  18.7722 , max =  253818.7  \n",
      " \u001b[32m A new explainer has been created! \u001b[39m \n"
     ]
    }
   ],
   "source": [
    "explainer_ranger <- DALEX::explain(model = model_xg,\n",
    "                     data = as.matrix(train_x),\n",
    "                     y = train_y)"
   ]
  },
  {
   "cell_type": "code",
   "execution_count": 37,
   "id": "complicated-nevada",
   "metadata": {},
   "outputs": [],
   "source": [
    "fi_2 <- model_parts(explainer_ranger, B = 10)"
   ]
  },
  {
   "cell_type": "code",
   "execution_count": 40,
   "id": "insured-begin",
   "metadata": {},
   "outputs": [
    {
     "data": {
      "image/png": "[encoded data removed]",
      "text/plain": [
       "plot without title"
      ]
     },
     "metadata": {},
     "output_type": "display_data"
    }
   ],
   "source": [
    "plot(fi_1)"
   ]
  },
  {
   "cell_type": "markdown",
   "id": "uniform-skating",
   "metadata": {},
   "source": [
    "Wnioski Las Losowy:\n",
    "\n",
    "Dla Lasu losowego najważniejszą zmienną dla predykcji to mediana dochodu (tzn gdybyśmy nie mieli tej danej model radziłby sobie dużo gorzej). Inne ważne kategorie niosące duży zasób informacji to dane o położeniu geograficznym, oraz kategoria określająca czy dana nieruchomość leży w głębi lądu) \n",
    "\n",
    "\n",
    "Wioski te raczej pokr\n",
    "ywają się z wyjaśnieniami lokalnymi gdzie różniej największy wpływ na predykcje miały dochód i położenie geograficzne. (można by tu po wtóre powtarzać wnioski z poprzednich prac domowych jak to wysokość dochodu składnia do wynajmowania/kupowania droższych mieszkań \n",
    "\n",
    "                                                                                                                        \n",
    "W zbiorze występuje jedna kolumna „Island” której usuniecie nie pogarsza wyniku modelu. To znaczy nie niesie informacji potrzebnych modelowi.\n",
    "Z EDA wiadomo ze jest to zmienna określająca czy dom leży na wyspie, jednak takich nieruchomości w całym zbiorze jest tylko 10, stąd tez patrząc globalnie, ta informacją nic nam nie daje \n",
    "\n"
   ]
  },
  {
   "cell_type": "code",
   "execution_count": 38,
   "id": "harmful-absorption",
   "metadata": {},
   "outputs": [
    {
     "data": {
      "image/png": "[encoded data removed]",
      "text/plain": [
       "plot without title"
      ]
     },
     "metadata": {},
     "output_type": "display_data"
    }
   ],
   "source": [
    "plot(fi_2)"
   ]
  },
  {
   "cell_type": "markdown",
   "id": "absent-nightmare",
   "metadata": {},
   "source": [
    "Wnioski XGboost:\n",
    "\n",
    "\n",
    "Model głównie opiera się na tych samych kolumnach co Las losowy. Różnice widać w przypadku zmiennych mało znaczących tutaj jest ich aż cztery.  Zważając na to iż XGboost osiągnął gorszy wynik niż raz losowy może oznaczać to ze nie nauczył wyciągać się w wystarczających wniosków z tych ze czterech kategorii \n"
   ]
  },
  {
   "cell_type": "code",
   "execution_count": 39,
   "id": "suspected-undergraduate",
   "metadata": {},
   "outputs": [
    {
     "data": {
      "image/png": "[encoded data removed]",
      "text/plain": [
       "plot without title"
      ]
     },
     "metadata": {},
     "output_type": "display_data"
    }
   ],
   "source": [
    "plot(fi_1,fi_2)"
   ]
  },
  {
   "cell_type": "markdown",
   "id": "after-classic",
   "metadata": {},
   "source": [
    "Podsumowanie:\n",
    "\n",
    "Najważniejsze zmiennie raczej będą takie dane dla różnych modeli, jednak będą występowały różnice w tym jak bardzo są ważne. Spore różnicę mogą występować dla kategorii niosących mniej informacji, lub takich z których ciężko jest się modelowi tą informacje wyłuskać \n"
   ]
  }
 ],
 "metadata": {
  "kernelspec": {
   "display_name": "R",
   "language": "R",
   "name": "ir"
  },
  "language_info": {
   "codemirror_mode": "r",
   "file_extension": ".r",
   "mimetype": "text/x-r-source",
   "name": "R",
   "pygments_lexer": "r",
   "version": "3.6.1"
  }
 },
 "nbformat": 4,
 "nbformat_minor": 5
}
